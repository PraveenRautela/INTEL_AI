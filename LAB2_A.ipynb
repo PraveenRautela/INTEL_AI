{
  "nbformat": 4,
  "nbformat_minor": 0,
  "metadata": {
    "colab": {
      "provenance": [],
      "authorship_tag": "ABX9TyNI1r9qI6Z5J7+2HNfQzpvV",
      "include_colab_link": true
    },
    "kernelspec": {
      "name": "python3",
      "display_name": "Python 3"
    },
    "language_info": {
      "name": "python"
    }
  },
  "cells": [
    {
      "cell_type": "markdown",
      "metadata": {
        "id": "view-in-github",
        "colab_type": "text"
      },
      "source": [
        "<a href=\"https://colab.research.google.com/github/PraveenRautela/INTEL_AI/blob/main/LAB2_A.ipynb\" target=\"_parent\"><img src=\"https://colab.research.google.com/assets/colab-badge.svg\" alt=\"Open In Colab\"/></a>"
      ]
    },
    {
      "cell_type": "markdown",
      "source": [
        "# **Puzzle-8 by BFS**"
      ],
      "metadata": {
        "id": "-pSbWGmau_ff"
      }
    },
    {
      "cell_type": "code",
      "source": [
        "from collections import deque\n",
        "\n",
        "class Node:\n",
        "    def __init__(self, state, parent=None, action=None):\n",
        "        self.state = state\n",
        "        self.parent = parent\n",
        "        self.action = action\n",
        "\n",
        "class Puzzle8:\n",
        "    def __init__(self, initial_state):\n",
        "        self.initial_state = initial_state\n",
        "        self.goal_state = [[1, 2, 3], [4, 5, 6], [7, 8, 0]]  # 0 Represents the Empty Tile\n",
        "\n",
        "    def available_actions(self, state):\n",
        "        # Return possible moves based on the position of '0' (Empty Tile)\n",
        "        empty_tile_pos = self.find_empty_tile(state)\n",
        "        possible_actions = []\n",
        "        if empty_tile_pos[0] > 0: possible_actions.append('up')\n",
        "        if empty_tile_pos[0] < 2: possible_actions.append('down')\n",
        "        if empty_tile_pos[1] > 0: possible_actions.append('left')\n",
        "        if empty_tile_pos[1] < 2: possible_actions.append('right')\n",
        "        return possible_actions\n",
        "\n",
        "    def successor(self, state, action):\n",
        "        empty_tile_pos = self.find_empty_tile(state)\n",
        "        new_state = [row[:] for row in state]\n",
        "        i, j = empty_tile_pos\n",
        "\n",
        "        if action == 'up':\n",
        "            new_state[i][j], new_state[i-1][j] = new_state[i-1][j], new_state[i][j]\n",
        "        elif action == 'down':\n",
        "            new_state[i][j], new_state[i+1][j] = new_state[i+1][j], new_state[i][j]\n",
        "        elif action == 'left':\n",
        "            new_state[i][j], new_state[i][j-1] = new_state[i][j-1], new_state[i][j]\n",
        "        elif action == 'right':\n",
        "            new_state[i][j], new_state[i][j+1] = new_state[i][j+1], new_state[i][j]\n",
        "\n",
        "        return new_state\n",
        "\n",
        "    def find_empty_tile(self, state):\n",
        "        # Locate the position of the Empty Tile (0)\n",
        "        for i in range(3):\n",
        "            for j in range(3):\n",
        "                if state[i][j] == 0:\n",
        "                    return i, j\n",
        "\n",
        "    def backtrack_solution(self, node):\n",
        "        # Backtrack from the given node to the initial state to produce the path\n",
        "        path = []\n",
        "        current_node = node\n",
        "        while current_node is not None:\n",
        "            if current_node.action is not None:\n",
        "                path.append(current_node.action)\n",
        "            current_node = current_node.parent\n",
        "        path.reverse()\n",
        "        return path\n",
        "\n",
        "    def solve(self):\n",
        "        frontier = deque([Node(state=self.initial_state)])  # Initialize the frontier with the initial state\n",
        "        explored = set()\n",
        "\n",
        "        while frontier:\n",
        "            node = frontier.popleft()\n",
        "\n",
        "            # Check if the current node's state is the goal state\n",
        "            if node.state == self.goal_state:\n",
        "                return self.backtrack_solution(node)  # Backtrack to get the path\n",
        "\n",
        "            explored.add(tuple(map(tuple, node.state)))\n",
        "            # Generate successors and add to the frontier\n",
        "            for action in self.available_actions(node.state):\n",
        "                child_state = self.successor(node.state, action)\n",
        "                if tuple(map(tuple, child_state)) not in explored:\n",
        "                    frontier.append(Node(state=child_state, parent=node, action=action))  # Add child to frontier\n",
        "\n",
        "        return None\n",
        "\n",
        "initial_state = [[4, 1, 2], [7, 5, 3], [8, 0, 6]]\n",
        "puzzle = Puzzle8(initial_state)\n",
        "solution_path = puzzle.solve()\n",
        "print(\"Path to goal state :\", solution_path)\n"
      ],
      "metadata": {
        "colab": {
          "base_uri": "https://localhost:8080/"
        },
        "id": "3XBcfNd_s0Ds",
        "outputId": "59b77b63-8826-4a07-c738-c2441b503ce7"
      },
      "execution_count": null,
      "outputs": [
        {
          "output_type": "stream",
          "name": "stdout",
          "text": [
            "Path to goal state : ['left', 'up', 'up', 'right', 'right', 'down', 'down']\n"
          ]
        }
      ]
    },
    {
      "cell_type": "code",
      "source": [],
      "metadata": {
        "id": "qusJ8DVXtqH-"
      },
      "execution_count": null,
      "outputs": []
    }
  ]
}