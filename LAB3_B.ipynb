{
  "nbformat": 4,
  "nbformat_minor": 0,
  "metadata": {
    "colab": {
      "provenance": []
    },
    "kernelspec": {
      "name": "python3",
      "display_name": "Python 3"
    },
    "language_info": {
      "name": "python"
    }
  },
  "cells": [
    {
      "cell_type": "markdown",
      "source": [
        "# **Generate k-SAT Problem**"
      ],
      "metadata": {
        "id": "J8w726Q8mNqq"
      }
    },
    {
      "cell_type": "code",
      "execution_count": null,
      "metadata": {
        "colab": {
          "base_uri": "https://localhost:8080/"
        },
        "id": "FULTE4ZjlRbR",
        "outputId": "38251988-ebdc-47d9-8b60-abe7c2649bca"
      },
      "outputs": [
        {
          "output_type": "stream",
          "name": "stdout",
          "text": [
            "Enter the value of k (number of literals per clause) : 5\n",
            "Enter the number of clauses (m) : 6\n",
            "Enter the number of variables (n) : 4\n",
            "Generated k-SAT formula:\n",
            "(1 ∨ 2 ∨ -1 ∨ -4 ∨ -2)\n",
            "(1 ∨ 3 ∨ 4 ∨ -2 ∨ -1)\n",
            "(1 ∨ 3 ∨ 4 ∨ -4 ∨ -1)\n",
            "(2 ∨ 3 ∨ 4 ∨ -3 ∨ -1)\n",
            "(1 ∨ 2 ∨ -2 ∨ -3 ∨ -1)\n",
            "(1 ∨ 2 ∨ 4 ∨ -3 ∨ -1)\n"
          ]
        }
      ],
      "source": [
        "import random\n",
        "\n",
        "def generate_k_sat(k, m, n):\n",
        "    clauses = []\n",
        "\n",
        "    for _ in range(m):\n",
        "        clause = set()\n",
        "        while len(clause) < k:\n",
        "            # Randomly select a variable between 1 and n\n",
        "            var = random.randint(1, n)\n",
        "\n",
        "            # Randomly negate the variable\n",
        "            if random.choice([True, False]):\n",
        "                var = -var\n",
        "\n",
        "            clause.add(var)\n",
        "\n",
        "        clauses.append(list(clause))\n",
        "\n",
        "    return clauses\n",
        "\n",
        "def print_k_sat_formula(clauses):\n",
        "    for clause in clauses:\n",
        "        print(f\"({' ∨ '.join(map(str, clause))})\")\n",
        "\n",
        "k = int(input(\"Enter the value of k (number of literals per clause) : \"))\n",
        "m = int(input(\"Enter the number of clauses (m) : \"))\n",
        "n = int(input(\"Enter the number of variables (n) : \"))\n",
        "\n",
        "k_sat_formula = generate_k_sat(k, m, n)\n",
        "\n",
        "print(\"Generated k-SAT formula:\")\n",
        "print_k_sat_formula(k_sat_formula)\n"
      ]
    },
    {
      "cell_type": "code",
      "source": [],
      "metadata": {
        "id": "Qj3hW_4Ol5dX"
      },
      "execution_count": null,
      "outputs": []
    }
  ]
}