{
  "nbformat": 4,
  "nbformat_minor": 0,
  "metadata": {
    "colab": {
      "provenance": [],
      "authorship_tag": "ABX9TyNEpstrife8zGZOABqV7khg",
      "include_colab_link": true
    },
    "kernelspec": {
      "name": "python3",
      "display_name": "Python 3"
    },
    "language_info": {
      "name": "python"
    }
  },
  "cells": [
    {
      "cell_type": "markdown",
      "metadata": {
        "id": "view-in-github",
        "colab_type": "text"
      },
      "source": [
        "<a href=\"https://colab.research.google.com/github/PraveenRautela/INTEL_AI/blob/main/LAB1_A.ipynb\" target=\"_parent\"><img src=\"https://colab.research.google.com/assets/colab-badge.svg\" alt=\"Open In Colab\"/></a>"
      ]
    },
    {
      "cell_type": "markdown",
      "source": [
        "# **Missionaries and Cannibals by BFS**"
      ],
      "metadata": {
        "id": "JocbvxCGCtRp"
      }
    },
    {
      "cell_type": "code",
      "execution_count": null,
      "metadata": {
        "colab": {
          "base_uri": "https://localhost:8080/"
        },
        "id": "cXjRKwzK-ajr",
        "outputId": "87a8bfad-aa5e-4393-8287-8795be5b05e6"
      },
      "outputs": [
        {
          "output_type": "stream",
          "name": "stdout",
          "text": [
            "BFS Path to solution :\n",
            "(3, 3, 0)\n",
            "(3, 1, 1)\n",
            "(3, 2, 0)\n",
            "(3, 0, 1)\n",
            "(3, 1, 0)\n",
            "(1, 1, 1)\n",
            "(2, 2, 0)\n",
            "(0, 2, 1)\n",
            "(0, 3, 0)\n",
            "(0, 1, 1)\n",
            "(1, 1, 0)\n",
            "(0, 0, 1)\n"
          ]
        }
      ],
      "source": [
        "from collections import deque\n",
        "\n",
        "def bfs():\n",
        "    initial_state = (3, 3, 0) # (m_L, c_L, Boat)\n",
        "    final_state = (0, 0, 1)\n",
        "\n",
        "    queue = deque([initial_state])\n",
        "    visited = set()\n",
        "    visited.add(initial_state)\n",
        "    parent_map = {initial_state: None}\n",
        "\n",
        "    moves = [(1, 0), (0, 1), (2, 0), (0, 2), (1, 1)]\n",
        "\n",
        "    while queue:\n",
        "        current = queue.popleft()\n",
        "\n",
        "        if current == final_state:\n",
        "            path = []\n",
        "            while current is not None:\n",
        "                path.append(current)\n",
        "                current = parent_map[current]\n",
        "            return path[::-1]\n",
        "\n",
        "        m_L, c_L, b = current\n",
        "        m_R = 3 - m_L\n",
        "        c_R = 3 - c_L\n",
        "\n",
        "        for m_move, c_move in moves:\n",
        "            if b == 0:  # Boat is on the left bank\n",
        "                new_state = (m_L - m_move, c_L - c_move, 1)\n",
        "            else:  # Boat is on the right bank\n",
        "                new_state = (m_L + m_move, c_L + c_move, 0)\n",
        "\n",
        "            # Check validity of new state\n",
        "            if (0 <= new_state[0] <= 3 and 0 <= new_state[1] <= 3 and\n",
        "                    (new_state[0] == 0 or new_state[0] >= new_state[1]) and\n",
        "                    (m_R == 0 or m_R >= c_R) and\n",
        "                    new_state not in visited):\n",
        "                visited.add(new_state)\n",
        "                queue.append(new_state)\n",
        "                parent_map[new_state] = current\n",
        "\n",
        "    return None\n",
        "\n",
        "bfs_path = bfs()\n",
        "print(\"BFS Path to solution :\")\n",
        "for state in bfs_path:\n",
        "    print(state)"
      ]
    },
    {
      "cell_type": "markdown",
      "source": [
        "# **Missionaries and Cannibals by DFS**"
      ],
      "metadata": {
        "id": "6KHtIi9yDHXC"
      }
    },
    {
      "cell_type": "code",
      "source": [
        "def dfs():\n",
        "    initial_state = (3, 3, 0)  # (m_L, c_L, Boat)\n",
        "    final_state = (0, 0, 1)\n",
        "\n",
        "    stack = [initial_state]\n",
        "    visited = set()\n",
        "    visited.add(initial_state)\n",
        "    parent_map = {initial_state: None}\n",
        "\n",
        "    moves = [(1, 0), (0, 1), (2, 0), (0, 2), (1, 1)]\n",
        "\n",
        "    while stack:\n",
        "        current = stack.pop()\n",
        "\n",
        "        if current == final_state:\n",
        "            path = []\n",
        "            while current is not None:\n",
        "                path.append(current)\n",
        "                current = parent_map[current]\n",
        "            return path[::-1]\n",
        "\n",
        "        m_L, c_L, b = current\n",
        "        m_R = 3 - m_L\n",
        "        c_R = 3 - c_L\n",
        "\n",
        "        for m_move, c_move in moves:\n",
        "            if b == 0:  # Boat is on the left bank\n",
        "                new_state = (m_L - m_move, c_L - c_move, 1)\n",
        "            else:  # Boat is on the right bank\n",
        "                new_state = (m_L + m_move, c_L + c_move, 0)\n",
        "\n",
        "            # Check validity of new state\n",
        "            if (0 <= new_state[0] <= 3 and 0 <= new_state[1] <= 3 and\n",
        "                    (new_state[0] == 0 or new_state[0] >= new_state[1]) and\n",
        "                    (m_R == 0 or m_R >= c_R) and\n",
        "                    new_state not in visited):\n",
        "                visited.add(new_state)\n",
        "                stack.append(new_state)\n",
        "                parent_map[new_state] = current\n",
        "\n",
        "    return None\n",
        "\n",
        "dfs_path = dfs()\n",
        "print(\"DFS Path to solution :\")\n",
        "for state in dfs_path:\n",
        "    print(state)"
      ],
      "metadata": {
        "colab": {
          "base_uri": "https://localhost:8080/"
        },
        "id": "DqbO6iQZAIih",
        "outputId": "a1cb303e-e9c2-4c38-d886-e89f628ccf25"
      },
      "execution_count": null,
      "outputs": [
        {
          "output_type": "stream",
          "name": "stdout",
          "text": [
            "DFS Path to solution :\n",
            "(3, 3, 0)\n",
            "(2, 2, 1)\n",
            "(3, 2, 0)\n",
            "(3, 0, 1)\n",
            "(3, 1, 0)\n",
            "(1, 1, 1)\n",
            "(2, 2, 0)\n",
            "(0, 2, 1)\n",
            "(0, 3, 0)\n",
            "(0, 1, 1)\n",
            "(0, 2, 0)\n",
            "(0, 0, 1)\n"
          ]
        }
      ]
    },
    {
      "cell_type": "code",
      "source": [],
      "metadata": {
        "id": "mSdf1FDMAS2M"
      },
      "execution_count": null,
      "outputs": []
    }
  ]
}