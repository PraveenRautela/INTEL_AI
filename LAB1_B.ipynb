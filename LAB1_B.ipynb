{
  "nbformat": 4,
  "nbformat_minor": 0,
  "metadata": {
    "colab": {
      "provenance": []
    },
    "kernelspec": {
      "name": "python3",
      "display_name": "Python 3"
    },
    "language_info": {
      "name": "python"
    }
  },
  "cells": [
    {
      "cell_type": "markdown",
      "source": [
        "# **Rabbit Leap problem by BFS**"
      ],
      "metadata": {
        "id": "5eWx1Nh-EBl0"
      }
    },
    {
      "cell_type": "code",
      "execution_count": null,
      "metadata": {
        "colab": {
          "base_uri": "https://localhost:8080/"
        },
        "id": "rkZk4qxpDx2I",
        "outputId": "f7b3bca6-97ee-4440-dabd-b5e294bba270"
      },
      "outputs": [
        {
          "output_type": "stream",
          "name": "stdout",
          "text": [
            "Solution found:\n",
            "EEE_WWW\n",
            "EE_EWWW\n",
            "EEWE_WW\n",
            "EEWEW_W\n",
            "EEW_WEW\n",
            "E_WEWEW\n",
            "_EWEWEW\n",
            "WE_EWEW\n",
            "WEWE_EW\n",
            "WEWEWE_\n",
            "WEWEW_E\n",
            "WEW_WEE\n",
            "W_WEWEE\n",
            "WW_EWEE\n",
            "WWWE_EE\n",
            "WWW_EEE\n"
          ]
        }
      ],
      "source": [
        "from collections import deque\n",
        "\n",
        "def bfs_solution(initial_state, goal_state):\n",
        "    queue = deque([(initial_state, [])])\n",
        "    visited = set()\n",
        "\n",
        "    while queue:\n",
        "        current_state, path = queue.popleft()\n",
        "        if current_state in visited:\n",
        "            continue\n",
        "\n",
        "        visited.add(current_state)\n",
        "\n",
        "        if current_state == goal_state:\n",
        "            return path + [current_state]\n",
        "\n",
        "        for next_state in generate_successors(current_state):\n",
        "            if next_state not in visited:\n",
        "                queue.append((next_state, path + [current_state]))\n",
        "\n",
        "    return None\n",
        "\n",
        "def generate_successors(state):\n",
        "    successors = []\n",
        "    index = state.index('_')\n",
        "\n",
        "    # Move \"E\" to the right\n",
        "    if index > 0 and state[index-1] == 'E':\n",
        "        # Move right\n",
        "        new_state = state[:index-1] + '_' + 'E' + state[index+1:]\n",
        "        successors.append(new_state)\n",
        "\n",
        "    # Move \"W\" to the left\n",
        "    if index < len(state) - 1 and state[index+1] == 'W':\n",
        "        # Move left\n",
        "        new_state = state[:index] + 'W' + '_' + state[index+2:]\n",
        "        successors.append(new_state)\n",
        "\n",
        "    # \"E\" jumps over one to the right\n",
        "    if index > 1 and state[index-1] == 'W' and state[index-2] == 'E':\n",
        "        new_state = state[:index-2] + '_' + 'W' + 'E' + state[index+1:]\n",
        "        successors.append(new_state)\n",
        "\n",
        "    # \"W\" jumps over one to the left\n",
        "    if index < len(state) - 2 and state[index+1] == 'E' and state[index+2] == 'W':\n",
        "        new_state = state[:index] + 'W' + 'E' + '_' + state[index+3:]\n",
        "        successors.append(new_state)\n",
        "\n",
        "    return successors\n",
        "\n",
        "initial_state = \"EEE_WWW\"\n",
        "goal_state = \"WWW_EEE\"\n",
        "solution = bfs_solution(initial_state, goal_state)\n",
        "\n",
        "if solution:\n",
        "    print(\"Solution found:\")\n",
        "    for step in solution:\n",
        "        print(step)\n",
        "else:\n",
        "    print(\"No solution found.\")"
      ]
    },
    {
      "cell_type": "markdown",
      "source": [
        "# **Rabbit Leap problem by DFS**"
      ],
      "metadata": {
        "id": "yyS3a5axENFN"
      }
    },
    {
      "cell_type": "code",
      "source": [
        "def dfs_solution(current_state, goal_state, path, visited):\n",
        "    visited.add(current_state)\n",
        "\n",
        "    if current_state == goal_state:\n",
        "        return path + [current_state]\n",
        "\n",
        "    for next_state in generate_successors(current_state):\n",
        "        if next_state not in visited:\n",
        "            result = dfs_solution(next_state, goal_state, path + [current_state], visited)\n",
        "            if result:\n",
        "                return result\n",
        "\n",
        "    return None\n",
        "\n",
        "def generate_successors(state):\n",
        "    successors = []\n",
        "    index = state.index('_')\n",
        "\n",
        "    # Move \"E\" to the right\n",
        "    if index > 0 and state[index-1] == 'E':\n",
        "        # Move right\n",
        "        new_state = state[:index-1] + '_' + 'E' + state[index+1:]\n",
        "        successors.append(new_state)\n",
        "\n",
        "    # Move \"W\" to the left\n",
        "    if index < len(state) - 1 and state[index+1] == 'W':\n",
        "        # Move left\n",
        "        new_state = state[:index] + 'W' + '_' + state[index+2:]\n",
        "        successors.append(new_state)\n",
        "\n",
        "    # \"E\" jumps over one to the right\n",
        "    if index > 1 and state[index-1] == 'W' and state[index-2] == 'E':\n",
        "        new_state = state[:index-2] + '_' + 'W' + 'E' + state[index+1:]\n",
        "        successors.append(new_state)\n",
        "\n",
        "    # \"W\" jumps over one to the left\n",
        "    if index < len(state) - 2 and state[index+1] == 'E' and state[index+2] == 'W':\n",
        "        new_state = state[:index] + 'W' + 'E' + '_' + state[index+3:]\n",
        "        successors.append(new_state)\n",
        "\n",
        "    return successors\n",
        "\n",
        "initial_state = \"EEE_WWW\"\n",
        "goal_state = \"WWW_EEE\"\n",
        "visited = set()\n",
        "solution = dfs_solution(initial_state, goal_state, [], visited)\n",
        "\n",
        "if solution:\n",
        "    print(\"Solution found:\")\n",
        "    for step in solution:\n",
        "        print(step)\n",
        "else:\n",
        "    print(\"No solution found.\")"
      ],
      "metadata": {
        "colab": {
          "base_uri": "https://localhost:8080/"
        },
        "id": "GnkI0NcQEJE3",
        "outputId": "76f0192a-461e-4a8b-be4f-c09d5d1295ce"
      },
      "execution_count": null,
      "outputs": [
        {
          "output_type": "stream",
          "name": "stdout",
          "text": [
            "Solution found:\n",
            "EEE_WWW\n",
            "EE_EWWW\n",
            "EEWE_WW\n",
            "EEWEW_W\n",
            "EEW_WEW\n",
            "E_WEWEW\n",
            "_EWEWEW\n",
            "WE_EWEW\n",
            "WEWE_EW\n",
            "WEWEWE_\n",
            "WEWEW_E\n",
            "WEW_WEE\n",
            "W_WEWEE\n",
            "WW_EWEE\n",
            "WWWE_EE\n",
            "WWW_EEE\n"
          ]
        }
      ]
    },
    {
      "cell_type": "code",
      "source": [],
      "metadata": {
        "id": "MfV97rLiEvN0"
      },
      "execution_count": null,
      "outputs": []
    }
  ]
}