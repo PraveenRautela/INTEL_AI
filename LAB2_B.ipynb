{
  "nbformat": 4,
  "nbformat_minor": 0,
  "metadata": {
    "colab": {
      "provenance": []
    },
    "kernelspec": {
      "name": "python3",
      "display_name": "Python 3"
    },
    "language_info": {
      "name": "python"
    }
  },
  "cells": [
    {
      "cell_type": "markdown",
      "source": [
        "# **Plagiarism Detection by using A star**"
      ],
      "metadata": {
        "id": "gmemZ6nd7yq1"
      }
    },
    {
      "cell_type": "code",
      "source": [
        "def levenshtein_distance(s1, s2):\n",
        "    if len(s1) < len(s2):\n",
        "        return levenshtein_distance(s2, s1)\n",
        "\n",
        "    if len(s2) == 0:\n",
        "        return len(s1)\n",
        "\n",
        "    previous_row = range(len(s2) + 1)\n",
        "    for i, c1 in enumerate(s1):\n",
        "        current_row = [i + 1]\n",
        "        for j, c2 in enumerate(s2):\n",
        "            insertions = previous_row[j + 1] + 1\n",
        "            deletions = current_row[j] + 1\n",
        "            substitutions = previous_row[j] + (c1 != c2)\n",
        "            current_row.append(min(insertions, deletions, substitutions))\n",
        "        previous_row = current_row\n",
        "    return previous_row[-1]\n",
        "\n",
        "def tokenize_document(doc):\n",
        "    return [sentence.strip() for sentence in doc.split('.') if sentence]\n",
        "\n",
        "def a_star(sentences1, sentences2):\n",
        "    # Align sentences between two documents using a simple path based on index.\n",
        "    path = []\n",
        "    for i in range(max(len(sentences1), len(sentences2))):\n",
        "        if i < len(sentences1) and i < len(sentences2):\n",
        "            path.append((i, i))  # Both sentences are aligned\n",
        "        elif i < len(sentences1):\n",
        "            path.append((i, -1))  # Sentence only in Document 1\n",
        "        else:\n",
        "            path.append((-1, i))  # Sentence only in Document 2\n",
        "    return path\n",
        "\n",
        "def run_test_case(doc1, doc2):\n",
        "    sentences1 = tokenize_document(doc1)\n",
        "    sentences2 = tokenize_document(doc2)\n",
        "    alignment_path = a_star(sentences1, sentences2)\n",
        "\n",
        "    print(\"Sentences from Document 1 :\", sentences1)\n",
        "    print(\"Sentences from Document 2 :\", sentences2)\n",
        "    print(\"Alignment Path :\", alignment_path)\n",
        "\n",
        "    edit_distances = []\n",
        "    for i, j in alignment_path:\n",
        "        if i != -1 and j != -1:  # Both sentences are aligned\n",
        "            distance = levenshtein_distance(sentences1[i], sentences2[j])\n",
        "            edit_distances.append(distance)\n",
        "        else:\n",
        "            edit_distances.append(None)  # No corresponding sentence\n",
        "\n",
        "    return alignment_path, edit_distances\n",
        "\n",
        "# Test Case 1 : Identical Documents\n",
        "doc1 = \"Airlines has to be tested. Very Quickly.\"\n",
        "doc2 = \"Airlines has to be tested. Very Quickly.\"\n",
        "print(\"Test Case 1 - Identical Documents\")\n",
        "output = run_test_case(doc1, doc2)\n",
        "print(\"Edit Distances :\", output[1])\n",
        "\n",
        "# Test Case 2 : Slightly Modified Document\n",
        "doc1 = \"Airline offers exceptional service to travelers. Passengers can enjoy in flight entertainment.\"\n",
        "doc2 = \"Airline provides outstanding service to its customers. Travelers can enjoy free meals.\"\n",
        "print(\"\\nTest Case 2 - Slightly Modified Documents\")\n",
        "output = run_test_case(doc1, doc2)\n",
        "print(\"Edit Distances :\", output[1])\n",
        "\n",
        "# Test Case 3 : Completely Different Documents\n",
        "doc1 = \"We offer premium services including Business class options and first class. Majorly High Prices.\"\n",
        "doc2 = \"Travelers have access to comfortable seating. Not Affordable Majorly.\"\n",
        "print(\"\\nTest Case 3 - Completely Different Documents\")\n",
        "output = run_test_case(doc1, doc2)\n",
        "print(\"Edit Distances :\", output[1])\n",
        "\n",
        "# Test Case 4 : Partial Overlap\n",
        "doc1 = \"Offering state-of-the-art technology and services. Explore new destinations.\"\n",
        "doc2 = \"Offers various tour packages that include flights and guided tours. Expert travel planners.\"\n",
        "print(\"\\nTest Case 4 - Partial Overlap\")\n",
        "output = run_test_case(doc1, doc2)\n",
        "print(\"Edit Distances :\", output[1])"
      ],
      "metadata": {
        "colab": {
          "base_uri": "https://localhost:8080/"
        },
        "id": "1nvA0Yvj3Y_a",
        "outputId": "5c186cc4-57aa-4044-f39d-21c49a554772"
      },
      "execution_count": null,
      "outputs": [
        {
          "output_type": "stream",
          "name": "stdout",
          "text": [
            "Test Case 1 - Identical Documents\n",
            "Sentences from Document 1 : ['Airlines has to be tested', 'Very Quickly']\n",
            "Sentences from Document 2 : ['Airlines has to be tested', 'Very Quickly']\n",
            "Alignment Path : [(0, 0), (1, 1)]\n",
            "Edit Distances : [0, 0]\n",
            "\n",
            "Test Case 2 - Slightly Modified Documents\n",
            "Sentences from Document 1 : ['Airline offers exceptional service to travelers', 'Passengers can enjoy in flight entertainment']\n",
            "Sentences from Document 2 : ['Airline provides outstanding service to its customers', 'Travelers can enjoy free meals']\n",
            "Alignment Path : [(0, 0), (1, 1)]\n",
            "Edit Distances : [26, 25]\n",
            "\n",
            "Test Case 3 - Completely Different Documents\n",
            "Sentences from Document 1 : ['We offer premium services including Business class options and first class', 'Majorly High Prices']\n",
            "Sentences from Document 2 : ['Travelers have access to comfortable seating', 'Not Affordable Majorly']\n",
            "Alignment Path : [(0, 0), (1, 1)]\n",
            "Edit Distances : [59, 21]\n",
            "\n",
            "Test Case 4 - Partial Overlap\n",
            "Sentences from Document 1 : ['Offering state-of-the-art technology and services', 'Explore new destinations']\n",
            "Sentences from Document 2 : ['Offers various tour packages that include flights and guided tours', 'Expert travel planners']\n",
            "Alignment Path : [(0, 0), (1, 1)]\n",
            "Edit Distances : [46, 16]\n"
          ]
        }
      ]
    },
    {
      "cell_type": "code",
      "source": [],
      "metadata": {
        "id": "X2gBXHbC3uRJ"
      },
      "execution_count": null,
      "outputs": []
    }
  ]
}