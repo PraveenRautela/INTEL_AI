{
  "nbformat": 4,
  "nbformat_minor": 0,
  "metadata": {
    "colab": {
      "provenance": []
    },
    "kernelspec": {
      "name": "python3",
      "display_name": "Python 3"
    },
    "language_info": {
      "name": "python"
    }
  },
  "cells": [
    {
      "cell_type": "markdown",
      "source": [
        "# **Uniform Random 3-SAT Problem**"
      ],
      "metadata": {
        "id": "rDYWY1gzm4LD"
      }
    },
    {
      "cell_type": "code",
      "execution_count": null,
      "metadata": {
        "id": "cHk8QvLDmwAl"
      },
      "outputs": [],
      "source": [
        "import random\n",
        "\n",
        "def generate_3_sat(m, n):\n",
        "    clauses = []\n",
        "    for _ in range(m):\n",
        "        clause = set()\n",
        "        while len(clause) < 3:\n",
        "            var = random.randint(1, n)\n",
        "            if random.choice([True, False]):\n",
        "                var = -var  # Negate the variable\n",
        "            clause.add(var)\n",
        "        clauses.append(list(clause))\n",
        "    return clauses\n",
        "\n",
        "def evaluate_solution(clauses, solution):\n",
        "    # Heuristic h1: Number of satisfied clauses.\n",
        "    satisfied_clauses = 0\n",
        "    for clause in clauses:\n",
        "        for literal in clause:\n",
        "            if literal > 0 and solution[abs(literal) - 1] == 1:\n",
        "                satisfied_clauses += 1\n",
        "                break\n",
        "            elif literal < 0 and solution[abs(literal) - 1] == 0:\n",
        "                satisfied_clauses += 1\n",
        "                break\n",
        "    return satisfied_clauses\n",
        "\n",
        "def unsatisfied_clauses(clauses, solution):\n",
        "    # Heuristic h2: Number of unsatisfied clauses.\n",
        "    unsatisfied = 0\n",
        "    for clause in clauses:\n",
        "        clause_satisfied = False\n",
        "        for literal in clause:\n",
        "            if literal > 0 and solution[abs(literal) - 1] == 1:\n",
        "                clause_satisfied = True\n",
        "                break\n",
        "            elif literal < 0 and solution[abs(literal) - 1] == 0:\n",
        "                clause_satisfied = True\n",
        "                break\n",
        "        if not clause_satisfied:\n",
        "            unsatisfied += 1\n",
        "    return unsatisfied"
      ]
    },
    {
      "cell_type": "markdown",
      "source": [
        "# **Hill Climbing**"
      ],
      "metadata": {
        "id": "XU3UqtjHtAnj"
      }
    },
    {
      "cell_type": "code",
      "source": [
        "def hill_climbing(clauses, n, max_iterations=1000):\n",
        "    current_solution = [random.randint(0, 1) for _ in range(n)]\n",
        "    current_value = evaluate_solution(clauses, current_solution)\n",
        "\n",
        "    for _ in range(max_iterations):\n",
        "        neighbor = current_solution[:]\n",
        "        # Flip a random bit\n",
        "        var_to_flip = random.randint(0, n - 1)\n",
        "        neighbor[var_to_flip] = 1 - neighbor[var_to_flip]\n",
        "\n",
        "        neighbor_value = evaluate_solution(clauses, neighbor)\n",
        "        if neighbor_value > current_value:\n",
        "            current_solution = neighbor\n",
        "            current_value = neighbor_value\n",
        "\n",
        "        if current_value == len(clauses):\n",
        "            break\n",
        "\n",
        "    return current_solution, current_value"
      ],
      "metadata": {
        "id": "04hzsLo2m8Sl"
      },
      "execution_count": null,
      "outputs": []
    },
    {
      "cell_type": "markdown",
      "source": [
        "# **Beam Search**"
      ],
      "metadata": {
        "id": "91dm58-AtO-v"
      }
    },
    {
      "cell_type": "code",
      "source": [
        "def beam_search(clauses, n, beam_width, max_iterations=1000):\n",
        "    beams = [[random.randint(0, 1) for _ in range(n)] for _ in range(beam_width)]\n",
        "    best_solution = None\n",
        "    best_value = 0\n",
        "\n",
        "    for _ in range(max_iterations):\n",
        "        next_beams = []\n",
        "        for beam in beams:\n",
        "            for i in range(n):\n",
        "                neighbor = beam[:]\n",
        "                neighbor[i] = 1 - neighbor[i]\n",
        "                next_beams.append(neighbor)\n",
        "\n",
        "        next_beams = sorted(next_beams, key=lambda b: evaluate_solution(clauses, b), reverse=True)\n",
        "        beams = next_beams[:beam_width]\n",
        "\n",
        "        current_best_value = evaluate_solution(clauses, beams[0])\n",
        "        if current_best_value > best_value:\n",
        "            best_solution = beams[0]\n",
        "            best_value = current_best_value\n",
        "\n",
        "        if best_value == len(clauses):\n",
        "            break\n",
        "\n",
        "    return best_solution, best_value"
      ],
      "metadata": {
        "id": "4uiKnBDGp6dg"
      },
      "execution_count": null,
      "outputs": []
    },
    {
      "cell_type": "markdown",
      "source": [
        "# **Variable-Neighborhood-Descent with 3 Neighborhood**"
      ],
      "metadata": {
        "id": "ZGPOT3IvtXSz"
      }
    },
    {
      "cell_type": "code",
      "source": [
        "def variable_neighborhood_descent(clauses, n, max_iterations=1000):\n",
        "    def neighborhood_1(solution):\n",
        "        # Flip one variable\n",
        "        neighbors = []\n",
        "        for i in range(n):\n",
        "            neighbor = solution[:]\n",
        "            neighbor[i] = 1 - neighbor[i]\n",
        "            neighbors.append(neighbor)\n",
        "        return neighbors\n",
        "\n",
        "    def neighborhood_2(solution):\n",
        "        # Flip two variables\n",
        "        neighbors = []\n",
        "        for i in range(n):\n",
        "            for j in range(i + 1, n):\n",
        "                neighbor = solution[:]\n",
        "                neighbor[i] = 1 - neighbor[i]\n",
        "                neighbor[j] = 1 - neighbor[j]\n",
        "                neighbors.append(neighbor)\n",
        "        return neighbors\n",
        "\n",
        "    def neighborhood_3(solution):\n",
        "        # Flip three variables\n",
        "        neighbors = []\n",
        "        for i in range(n):\n",
        "            for j in range(i + 1, n):\n",
        "                for k in range(j + 1, n):\n",
        "                    neighbor = solution[:]\n",
        "                    neighbor[i] = 1 - neighbor[i]\n",
        "                    neighbor[j] = 1 - neighbor[j]\n",
        "                    neighbor[k] = 1 - neighbor[k]\n",
        "                    neighbors.append(neighbor)\n",
        "        return neighbors\n",
        "\n",
        "    neighborhoods = [neighborhood_1, neighborhood_2, neighborhood_3]\n",
        "    current_solution = [random.randint(0, 1) for _ in range(n)]\n",
        "    current_value = evaluate_solution(clauses, current_solution)\n",
        "\n",
        "    for _ in range(max_iterations):\n",
        "        improved = False\n",
        "        for neighborhood in neighborhoods:\n",
        "            neighbors = neighborhood(current_solution)\n",
        "            best_neighbor = max(neighbors, key=lambda s: evaluate_solution(clauses, s))\n",
        "            best_neighbor_value = evaluate_solution(clauses, best_neighbor)\n",
        "            if best_neighbor_value > current_value:\n",
        "                current_solution = best_neighbor\n",
        "                current_value = best_neighbor_value\n",
        "                improved = True\n",
        "                break\n",
        "\n",
        "        if not improved:\n",
        "            break\n",
        "\n",
        "    return current_solution, current_value"
      ],
      "metadata": {
        "id": "b9fbwkjSp9aq"
      },
      "execution_count": null,
      "outputs": []
    },
    {
      "cell_type": "code",
      "source": [
        "def experiment(m_values, n_values, repetitions=5):\n",
        "    algorithms = [\n",
        "        ('Hill Climbing', hill_climbing),\n",
        "        ('Beam Search (width=3)', lambda c, n: beam_search(c, n, beam_width=3)),\n",
        "        ('Beam Search (width=4)', lambda c, n: beam_search(c, n, beam_width=4)),\n",
        "        ('VND', variable_neighborhood_descent),\n",
        "    ]\n",
        "\n",
        "    for m in m_values:\n",
        "        for n in n_values:\n",
        "            print(f\"\\nTesting with m={m}, n={n}:\")\n",
        "            for algo_name, algo in algorithms:\n",
        "                success_count = 0\n",
        "                for _ in range(repetitions):\n",
        "                    clauses = generate_3_sat(m, n)\n",
        "                    solution, value = algo(clauses, n)\n",
        "                    if value == len(clauses):\n",
        "                        success_count += 1\n",
        "                penetrance = success_count / repetitions\n",
        "                print(f\"{algo_name} penetrance : {penetrance * 100:.2f}%\")\n",
        "\n",
        "m_values = [20, 40, 60]\n",
        "n_values = [10, 20, 30]\n",
        "experiment(m_values, n_values)"
      ],
      "metadata": {
        "colab": {
          "base_uri": "https://localhost:8080/"
        },
        "id": "P-xvxin7qB71",
        "outputId": "cf4a052a-b6f6-462e-920c-06538d0e3e2c"
      },
      "execution_count": null,
      "outputs": [
        {
          "output_type": "stream",
          "name": "stdout",
          "text": [
            "\n",
            "Testing with m=20, n=10:\n",
            "Hill Climbing penetrance : 100.00%\n",
            "Beam Search (width=3) penetrance : 100.00%\n",
            "Beam Search (width=4) penetrance : 100.00%\n",
            "VND penetrance : 100.00%\n",
            "\n",
            "Testing with m=20, n=20:\n",
            "Hill Climbing penetrance : 100.00%\n",
            "Beam Search (width=3) penetrance : 100.00%\n",
            "Beam Search (width=4) penetrance : 100.00%\n",
            "VND penetrance : 100.00%\n",
            "\n",
            "Testing with m=20, n=30:\n",
            "Hill Climbing penetrance : 100.00%\n",
            "Beam Search (width=3) penetrance : 100.00%\n",
            "Beam Search (width=4) penetrance : 100.00%\n",
            "VND penetrance : 100.00%\n",
            "\n",
            "Testing with m=40, n=10:\n",
            "Hill Climbing penetrance : 20.00%\n",
            "Beam Search (width=3) penetrance : 80.00%\n",
            "Beam Search (width=4) penetrance : 100.00%\n",
            "VND penetrance : 100.00%\n",
            "\n",
            "Testing with m=40, n=20:\n",
            "Hill Climbing penetrance : 80.00%\n",
            "Beam Search (width=3) penetrance : 100.00%\n",
            "Beam Search (width=4) penetrance : 100.00%\n",
            "VND penetrance : 100.00%\n",
            "\n",
            "Testing with m=40, n=30:\n",
            "Hill Climbing penetrance : 100.00%\n",
            "Beam Search (width=3) penetrance : 100.00%\n",
            "Beam Search (width=4) penetrance : 100.00%\n",
            "VND penetrance : 100.00%\n",
            "\n",
            "Testing with m=60, n=10:\n",
            "Hill Climbing penetrance : 0.00%\n",
            "Beam Search (width=3) penetrance : 20.00%\n",
            "Beam Search (width=4) penetrance : 40.00%\n",
            "VND penetrance : 40.00%\n",
            "\n",
            "Testing with m=60, n=20:\n",
            "Hill Climbing penetrance : 60.00%\n",
            "Beam Search (width=3) penetrance : 80.00%\n",
            "Beam Search (width=4) penetrance : 80.00%\n",
            "VND penetrance : 100.00%\n",
            "\n",
            "Testing with m=60, n=30:\n",
            "Hill Climbing penetrance : 100.00%\n",
            "Beam Search (width=3) penetrance : 80.00%\n",
            "Beam Search (width=4) penetrance : 100.00%\n",
            "VND penetrance : 100.00%\n"
          ]
        }
      ]
    },
    {
      "cell_type": "code",
      "source": [],
      "metadata": {
        "id": "SnjDyVnPq2mD"
      },
      "execution_count": null,
      "outputs": []
    }
  ]
}